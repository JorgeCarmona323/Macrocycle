{
  "nbformat": 4,
  "nbformat_minor": 0,
  "metadata": {
    "colab": {
      "provenance": [],
      "authorship_tag": "ABX9TyMqLHPCRSdi0OODOwn6yMmv",
      "include_colab_link": true
    },
    "kernelspec": {
      "name": "python3",
      "display_name": "Python 3"
    },
    "language_info": {
      "name": "python"
    }
  },
  "cells": [
    {
      "cell_type": "markdown",
      "metadata": {
        "id": "view-in-github",
        "colab_type": "text"
      },
      "source": [
        "<a href=\"https://colab.research.google.com/github/JorgeCarmona323/Macrocycle/blob/main/macrocycle_linker_reaction.ipynb\" target=\"_parent\"><img src=\"https://colab.research.google.com/assets/colab-badge.svg\" alt=\"Open In Colab\"/></a>"
      ]
    },
    {
      "cell_type": "code",
      "source": [
        "!pip install rdkit-pypi\n"
      ],
      "metadata": {
        "colab": {
          "base_uri": "https://localhost:8080/"
        },
        "id": "CVosXjm_Erg2",
        "outputId": "1846ed06-f72c-4e78-93e3-a359d419180b"
      },
      "execution_count": null,
      "outputs": [
        {
          "output_type": "stream",
          "name": "stdout",
          "text": [
            "Requirement already satisfied: rdkit-pypi in /usr/local/lib/python3.11/dist-packages (2022.9.5)\n",
            "Requirement already satisfied: numpy in /usr/local/lib/python3.11/dist-packages (from rdkit-pypi) (2.0.2)\n",
            "Requirement already satisfied: Pillow in /usr/local/lib/python3.11/dist-packages (from rdkit-pypi) (11.2.1)\n"
          ]
        }
      ]
    },
    {
      "cell_type": "code",
      "source": [
        "from google.colab import drive\n",
        "drive.mount('/content/drive')\n"
      ],
      "metadata": {
        "colab": {
          "base_uri": "https://localhost:8080/"
        },
        "id": "mQtqpBjfEro2",
        "outputId": "586fafc6-9565-43cf-c0f3-b31777917e8a"
      },
      "execution_count": null,
      "outputs": [
        {
          "output_type": "stream",
          "name": "stdout",
          "text": [
            "Drive already mounted at /content/drive; to attempt to forcibly remount, call drive.mount(\"/content/drive\", force_remount=True).\n"
          ]
        }
      ]
    },
    {
      "cell_type": "code",
      "source": [
        "from rdkit import Chem\n",
        "from rdkit.Chem import Draw\n",
        "from rdkit.Chem import AllChem\n",
        "\n",
        "def macrocyclize(pep_smi, linker_smiles='BrCc1c(CBr)cccc1'):\n",
        "    # Convert SMILES to RDKit molecules\n",
        "    pep    = Chem.MolFromSmiles(pep_smi)\n",
        "    linker = Chem.MolFromSmiles(linker_smiles)\n",
        "    if pep is None or linker is None:\n",
        "        return None\n",
        "\n",
        "    # Combine peptide and linker\n",
        "    combined = Chem.CombineMols(pep, linker)\n",
        "    rw = Chem.RWMol(combined)\n",
        "    pep_atom_count = pep.GetNumAtoms()\n",
        "\n",
        "    # 1) Identify the two CH2 carbons adjacent to Br (atomic #35)\n",
        "    ch2_idxs = []\n",
        "    for atom in rw.GetAtoms():\n",
        "        if atom.GetAtomicNum() == 6:  # carbon\n",
        "            for nb in atom.GetNeighbors():\n",
        "                if nb.GetAtomicNum() == 35:  # bromine\n",
        "                    ch2_idxs.append(atom.GetIdx())\n",
        "    if len(ch2_idxs) != 2:\n",
        "        return None\n",
        "    c1, c2 = ch2_idxs\n",
        "\n",
        "    # 2) Identify bromine atoms to remove\n",
        "    br_idxs = []\n",
        "    for c_idx in (c1, c2):\n",
        "        for nb in rw.GetAtomWithIdx(c_idx).GetNeighbors():\n",
        "            if nb.GetAtomicNum() == 35:\n",
        "                br_idxs.append(nb.GetIdx())\n",
        "\n",
        "    # 3) Find two S atoms in the peptide (atomic #16, one H)\n",
        "    s_idxs = []\n",
        "    for atom in rw.GetAtoms():\n",
        "        if (atom.GetAtomicNum() == 16 and atom.GetTotalNumHs() == 1\n",
        "            and atom.GetIdx() < pep_atom_count):\n",
        "            s_idxs.append(atom.GetIdx())\n",
        "    if len(s_idxs) < 2:\n",
        "        return None\n",
        "    s1, s2 = s_idxs[:2]\n",
        "\n",
        "    # 4) Add thioether bonds\n",
        "    rw.AddBond(s1, c1, Chem.BondType.SINGLE)\n",
        "    rw.AddBond(s2, c2, Chem.BondType.SINGLE)\n",
        "\n",
        "    # 5) Remove bromines\n",
        "    for idx in sorted(set(br_idxs), reverse=True):\n",
        "        rw.RemoveAtom(idx)\n",
        "\n",
        "    # 6) Sanitize and return\n",
        "    mol = rw.GetMol()\n",
        "    Chem.SanitizeMol(mol)\n",
        "    return mol\n"
      ],
      "metadata": {
        "id": "f96NmGJcFRLa"
      },
      "execution_count": null,
      "outputs": []
    },
    {
      "cell_type": "code",
      "source": [
        "test_smi = 'C#CCCC(N[C@@H](CS)C(N[C@@H](Cc1ccccc1)C(N(CCC1)[C@@H]1C(N[C@@H](Cc1ccccc1)C(N[C@@H](CS(O)(=O)=O)C(N[C@@H](CS)C(N)=O)=O)=O)=O)=O)=O)=O'\n",
        "macro = macrocyclize(test_smi)\n",
        "if macro:\n",
        "    print(\"Stapled Macrocycle SMILES:\", Chem.MolToSmiles(macro, True))\n",
        "    display(Draw.MolToImage(macro, size=(300,300)))\n",
        "else:\n",
        "    print(\"❗ No macrocycle formed. Check your SMILES have exactly two free –SH groups.\")\n"
      ],
      "metadata": {
        "colab": {
          "base_uri": "https://localhost:8080/",
          "height": 335
        },
        "id": "09Aq37-gUke6",
        "outputId": "8b6a10c1-53d2-492d-874c-c6167bde1f0e"
      },
      "execution_count": null,
      "outputs": [
        {
          "output_type": "stream",
          "name": "stdout",
          "text": [
            "Stapled Macrocycle SMILES: C#CCCC(=O)N[C@H]1CSCc2ccccc2CSC[C@@H](C(N)=O)NC(=O)[C@H](CS(=O)(=O)O)NC(=O)[C@H](Cc2ccccc2)NC(=O)[C@@H]2CCCN2C(=O)[C@H](Cc2ccccc2)NC1=O\n"
          ]
        },
        {
          "output_type": "display_data",
          "data": {
            "text/plain": [
              "<PIL.PngImagePlugin.PngImageFile image mode=RGB size=300x300>"
            ],
            "image/png": "[encoded data removed]",
            "image/jpeg": "[encoded data removed]"
          },
          "metadata": {}
        }
      ]
    },
    {
      "cell_type": "code",
      "source": [
        "pep_path = '/content/drive/MyDrive/Peptides.smi'\n",
        "out_path = '/content/drive/MyDrive/Monomer_products.smi'\n",
        "\n",
        "with open(pep_path) as inf, open(out_path, 'w') as outf:\n",
        "    for line in inf:\n",
        "        smi = line.strip()\n",
        "        if not smi:\n",
        "            continue\n",
        "        mol = macrocyclize(smi)\n",
        "        if mol:\n",
        "            outf.write(Chem.MolToSmiles(mol, True) + '\\n')\n",
        "\n",
        "print(\"✅ Enumeration complete. Results saved to:\", out_path)\n"
      ],
      "metadata": {
        "colab": {
          "base_uri": "https://localhost:8080/"
        },
        "id": "NPWqoeYzWxev",
        "outputId": "0c685327-329b-4072-db2f-2f3ba72a5d62"
      },
      "execution_count": null,
      "outputs": [
        {
          "output_type": "stream",
          "name": "stdout",
          "text": [
            "✅ Enumeration complete. Results saved to: /content/drive/MyDrive/Monomer_products.smi\n"
          ]
        }
      ]
    }
  ]
}